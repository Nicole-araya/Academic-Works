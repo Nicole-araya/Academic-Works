{
 "cells": [
  {
   "cell_type": "code",
   "execution_count": 1,
   "id": "c174698b",
   "metadata": {},
   "outputs": [],
   "source": [
    "import numpy as np\n",
    "import math"
   ]
  },
  {
   "cell_type": "code",
   "execution_count": 2,
   "id": "060aaac4",
   "metadata": {},
   "outputs": [],
   "source": [
    "data = np.genfromtxt('mamiferos.csv',dtype=str, delimiter=',')"
   ]
  },
  {
   "cell_type": "code",
   "execution_count": 3,
   "id": "3eccf5a4",
   "metadata": {},
   "outputs": [],
   "source": [
    "features_index = {n:i for i,n in enumerate (data[0,1:])} #1: quita la primera columna"
   ]
  },
  {
   "cell_type": "code",
   "execution_count": 4,
   "id": "e275a1f1",
   "metadata": {},
   "outputs": [],
   "source": [
    "def column(f):return features_index[f]"
   ]
  },
  {
   "cell_type": "code",
   "execution_count": 5,
   "id": "3fed3e90",
   "metadata": {},
   "outputs": [],
   "source": [
    "x = data[1:, 1:].astype(int)"
   ]
  },
  {
   "cell_type": "code",
   "execution_count": 6,
   "id": "02c1c0ed",
   "metadata": {},
   "outputs": [],
   "source": [
    "animals = data[1:,0]"
   ]
  },
  {
   "cell_type": "code",
   "execution_count": 7,
   "id": "4a911234",
   "metadata": {},
   "outputs": [],
   "source": [
    "ponehuevos = x[:, column('ponehuevos')] #:, todos en la columna\n",
    "nada = x[:, column('nada')]\n",
    "vuela = x[:, column('vuela')]\n",
    "mamifero = x[:, column('mamifero')]\n",
    "\n",
    "prob_mamif = len(animals[mamifero == 1]) / len(animals)"
   ]
  },
  {
   "cell_type": "code",
   "execution_count": 8,
   "id": "b1228ab8",
   "metadata": {},
   "outputs": [],
   "source": [
    "def calcular_prob(lista_que, sobreque, lista_dato):\n",
    "    probs = []\n",
    "    probs_no = []\n",
    "\n",
    "    for i in lista_que:\n",
    "        prob = len(lista_dato[i & sobreque == 1])/len(lista_dato[i == 1])\n",
    "        probs.append(prob)\n",
    "        \n",
    "        prob_no = len(lista_dato[np.logical_and(i != 1, sobreque == 1)])/len(lista_dato[i != 1])\n",
    "        probs_no.append(prob_no)\n",
    "        \n",
    "    return probs, probs_no"
   ]
  },
  {
   "cell_type": "code",
   "execution_count": 10,
   "id": "ec13d023",
   "metadata": {},
   "outputs": [
    {
     "name": "stdout",
     "output_type": "stream",
     "text": [
      "[0.25, 0.6, 0.5] [1.0, 0.5, 0.6]\n"
     ]
    }
   ],
   "source": [
    "combinaciones, combinaciones_no = calcular_prob([ponehuevos,nada,vuela], mamifero, animals)\n",
    "\n",
    "print(combinaciones, combinaciones_no)"
   ]
  },
  {
   "cell_type": "code",
   "execution_count": 47,
   "id": "27b1980c",
   "metadata": {},
   "outputs": [],
   "source": [
    "def calcular_entropia_conj(conjunto):\n",
    "    entropias = []\n",
    "    \n",
    "    for i in range(len(conjunto)):\n",
    "        if combinaciones[i] == 0:\n",
    "            entropia = - (1-conjunto[i]) * math.log((1-conjunto[i]), 2)\n",
    "        elif 1 - conjunto[i] == 0:\n",
    "            entropia = - conjunto[i] * math.log(conjunto[i], 2)\n",
    "        else:\n",
    "            entropia = - conjunto[i] * math.log(conjunto[i], 2) - (1-conjunto[i]) * math.log((1-conjunto[i]), 2)\n",
    "        \n",
    "        entropias.append(entropia*prob_mamif)\n",
    "    return entropias"
   ]
  },
  {
   "cell_type": "code",
   "execution_count": 50,
   "id": "e49c0153",
   "metadata": {},
   "outputs": [],
   "source": [
    "def calcular_gini_conj(conjunto1):\n",
    "    ginis = []\n",
    "    for i in conjunto1:\n",
    "        gini = 1-((i**2)+((1-i)**2))\n",
    "        ginis.append(gini*prob_mamif)\n",
    "    return ginis"
   ]
  },
  {
   "cell_type": "code",
   "execution_count": 44,
   "id": "ac20ebf9",
   "metadata": {},
   "outputs": [],
   "source": [
    "def sumar_2_conjuntos(conjunto1, conjunto2):\n",
    "    total = []\n",
    "    for i in range(len(conjunto1)):\n",
    "        total.append(conjunto1[i]+conjunto2[i])\n",
    "    return total"
   ]
  },
  {
   "cell_type": "code",
   "execution_count": 53,
   "id": "eb150122",
   "metadata": {},
   "outputs": [
    {
     "name": "stdout",
     "output_type": "stream",
     "text": [
      "[0.21428571428571427, 0.27428571428571424, 0.2857142857142857] [0.0, 0.2857142857142857, 0.27428571428571424]\n"
     ]
    },
    {
     "data": {
      "text/plain": [
       "0.21428571428571427"
      ]
     },
     "execution_count": 53,
     "metadata": {},
     "output_type": "execute_result"
    }
   ],
   "source": [
    "gini_combinaciones = calcular_gini_conj(combinaciones)\n",
    "gini_combinaciones_no = calcular_gini_conj(combinaciones_no)\n",
    "\n",
    "ginis = sumar_2_conjuntos(gini_combinaciones, gini_combinaciones_no)\n",
    "\n",
    "print(gini_combinaciones, gini_combinaciones_no)\n",
    "min(ginis)"
   ]
  },
  {
   "cell_type": "code",
   "execution_count": 55,
   "id": "c4cbcb7c",
   "metadata": {},
   "outputs": [
    {
     "name": "stdout",
     "output_type": "stream",
     "text": [
      "[0.46358749969093305, 0.5548289111169534, 0.5714285714285714] [-0.0, 0.5714285714285714, 0.5548289111169534]\n"
     ]
    },
    {
     "data": {
      "text/plain": [
       "0.46358749969093305"
      ]
     },
     "execution_count": 55,
     "metadata": {},
     "output_type": "execute_result"
    }
   ],
   "source": [
    "entropias_combinaciones = calcular_entropia_conj(combinaciones)\n",
    "entropias_combinaciones_no = calcular_entropia_conj(combinaciones_no)\n",
    "print(entropias_combinaciones, entropias_combinaciones_no)\n",
    "\n",
    "entropias = sumar_2_conjuntos(entropias_combinaciones, entropias_combinaciones_no)\n",
    "\n",
    "min(entropias)"
   ]
  },
  {
   "cell_type": "code",
   "execution_count": 58,
   "id": "ec92f4a2",
   "metadata": {},
   "outputs": [
    {
     "name": "stdout",
     "output_type": "stream",
     "text": [
      "Consume menos cantidad de bits: 0.21428571428571427 en gini\n"
     ]
    }
   ],
   "source": [
    "min_valor, conjunto = min((min(ginis), 'gini'), (min(entropias), 'entropia'))\n",
    "\n",
    "print('Consume menos cantidad de bits:', min_valor, 'en', conjunto)"
   ]
  }
 ],
 "metadata": {
  "kernelspec": {
   "display_name": "Python 3 (ipykernel)",
   "language": "python",
   "name": "python3"
  },
  "language_info": {
   "codemirror_mode": {
    "name": "ipython",
    "version": 3
   },
   "file_extension": ".py",
   "mimetype": "text/x-python",
   "name": "python",
   "nbconvert_exporter": "python",
   "pygments_lexer": "ipython3",
   "version": "3.11.5"
  }
 },
 "nbformat": 4,
 "nbformat_minor": 5
}
