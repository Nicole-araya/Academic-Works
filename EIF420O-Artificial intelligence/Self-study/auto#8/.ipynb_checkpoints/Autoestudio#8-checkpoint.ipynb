{
 "cells": [
  {
   "cell_type": "code",
   "execution_count": 25,
   "id": "b11c36b5",
   "metadata": {},
   "outputs": [],
   "source": [
    "import pandas as pd\n",
    "\n",
    "df = pd.read_csv(\"mamiferos.csv\")\n",
    "\n",
    "# Calcular el índice de Gini para cada atributo\n",
    "def calcular_gini(atributo):\n",
    "    gini_total = 0\n",
    "    valores = df[atributo].unique()\n",
    "    #print(\"Valor \", atributo, \" : \", valores, \"\\n\\n\")\n",
    "    for valor in valores:\n",
    "        proporciones = df[df[atributo] == valor][\"mamifero\"].value_counts(normalize=True)\n",
    "        #print(\"proporciones \", proporciones)\n",
    "        gini = 1 - sum(proporciones ** 2)\n",
    "        gini_total += gini * (len(df[df[atributo] == valor]) / len(df))\n",
    "    return gini_total\n",
    "\n"
   ]
  },
  {
   "cell_type": "code",
   "execution_count": 26,
   "id": "c95da72a",
   "metadata": {},
   "outputs": [
    {
     "name": "stdout",
     "output_type": "stream",
     "text": [
      "Valor  vuela  :  [0 1] \n",
      "\n",
      "\n",
      "proporciones  mamifero\n",
      "1    0.6\n",
      "0    0.4\n",
      "Name: proportion, dtype: float64\n",
      "proporciones  mamifero\n",
      "0    0.5\n",
      "1    0.5\n",
      "Name: proportion, dtype: float64\n",
      "Valor  ponehuevos  :  [1 0] \n",
      "\n",
      "\n",
      "proporciones  mamifero\n",
      "0    0.75\n",
      "1    0.25\n",
      "Name: proportion, dtype: float64\n",
      "proporciones  mamifero\n",
      "1    1.0\n",
      "Name: proportion, dtype: float64\n",
      "Valor  nada  :  [0 1] \n",
      "\n",
      "\n",
      "proporciones  mamifero\n",
      "0    0.5\n",
      "1    0.5\n",
      "Name: proportion, dtype: float64\n",
      "proporciones  mamifero\n",
      "1    0.6\n",
      "0    0.4\n",
      "Name: proportion, dtype: float64\n",
      "El mejor atributo de split es: ponehuevos\n"
     ]
    }
   ],
   "source": [
    "# Encontrar el mejor atributo de split\n",
    "mejor_atributo = None\n",
    "mejor_gini = float('inf')\n",
    "\n",
    "for columna in df.columns[1:-1]:  # Excluimos la primera (animal) y la última (mamifero)\n",
    "    gini = calcular_gini(columna)\n",
    "    if gini < mejor_gini:\n",
    "        mejor_gini = gini\n",
    "        mejor_atributo = columna\n",
    "\n",
    "print(\"El mejor atributo de split es:\", mejor_atributo)"
   ]
  },
  {
   "cell_type": "code",
   "execution_count": 24,
   "id": "9d6aabca",
   "metadata": {},
   "outputs": [
    {
     "name": "stdout",
     "output_type": "stream",
     "text": [
      "         animal  vuela  ponehuevos  nada  mamifero\n",
      "0       gallina      0           1     0         0\n",
      "1         perro      0           0     1         1\n",
      "2          gato      0           0     1         1\n",
      "3      pinguino      0           1     1         0\n",
      "5  ornitorrinco      0           1     1         1\n",
      "mamifero\n",
      "1    0.6\n",
      "0    0.4\n",
      "Name: proportion, dtype: float64\n"
     ]
    }
   ],
   "source": [
    "import pandas as pd\n",
    "\n",
    "# Creamos un DataFrame de ejemplo\n",
    "data = {\n",
    "    \"animal\": [\"gallina\", \"perro\", \"gato\", \"pinguino\", \"pato\", \"ornitorrinco\", \"murcielago\"],\n",
    "    \"vuela\": [0, 0, 0, 0, 1, 0, 1],\n",
    "    \"ponehuevos\": [1, 0, 0, 1, 1, 1, 0],\n",
    "    \"nada\": [0, 1, 1, 1, 1, 1, 0],\n",
    "    \"mamifero\": [0, 1, 1, 0, 0, 1, 1]\n",
    "}\n",
    "\n",
    "df = pd.DataFrame(data)\n",
    "\n",
    "# Filtramos las filas donde el valor en la columna \"vuela\" es igual a 0\n",
    "filas_vuela_0 = df[df[\"vuela\"] == 0]\n",
    "\n",
    "# Contamos las frecuencias de cada valor único en la columna \"mamifero\" dentro del subconjunto de datos\n",
    "proporciones = filas_vuela_0[\"mamifero\"].value_counts(normalize=True)\n",
    "\n",
    "print(filas_vuela_0)\n",
    "print(proporciones)\n"
   ]
  },
  {
   "cell_type": "code",
   "execution_count": null,
   "id": "eecd4880",
   "metadata": {},
   "outputs": [],
   "source": []
  }
 ],
 "metadata": {
  "kernelspec": {
   "display_name": "Python 3 (ipykernel)",
   "language": "python",
   "name": "python3"
  },
  "language_info": {
   "codemirror_mode": {
    "name": "ipython",
    "version": 3
   },
   "file_extension": ".py",
   "mimetype": "text/x-python",
   "name": "python",
   "nbconvert_exporter": "python",
   "pygments_lexer": "ipython3",
   "version": "3.11.5"
  }
 },
 "nbformat": 4,
 "nbformat_minor": 5
}
