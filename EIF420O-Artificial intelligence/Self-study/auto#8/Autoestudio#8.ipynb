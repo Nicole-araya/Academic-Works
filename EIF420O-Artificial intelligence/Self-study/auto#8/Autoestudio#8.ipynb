{
 "cells": [
  {
   "cell_type": "code",
   "execution_count": 19,
   "id": "bec74428",
   "metadata": {},
   "outputs": [],
   "source": [
    "import pandas as pd\n",
    "\n",
    "df = pd.read_csv(\"mamiferos.csv\")\n",
    "\n",
    "# Calcular el índice de Gini para cada atributo\n",
    "def calcular_gini(atributo):\n",
    "    gini_total = 0\n",
    "    valores = df[atributo].unique()\n",
    "    #print(\"Valor \", atributo, \" : \", valores, \"\\n\\n\")\n",
    "    for valor in valores:\n",
    "        proporciones = df[df[atributo] == valor][\"mamifero\"].value_counts(normalize=True)\n",
    "        #print(\"proporciones \", proporciones)\n",
    "        gini = 1 - sum(proporciones ** 2)\n",
    "        gini_total += gini * (len(df[df[atributo] == valor]) / len(df))\n",
    "        #print(\"gini_total \", gini_total)\n",
    "    return gini_total\n",
    "\n"
   ]
  },
  {
   "cell_type": "code",
   "execution_count": 21,
   "id": "308630bb",
   "metadata": {},
   "outputs": [
    {
     "name": "stdout",
     "output_type": "stream",
     "text": [
      "gini_total  0.34285714285714286\n",
      "gini_total  0.4857142857142857\n",
      "gini_total  0.21428571428571427\n",
      "gini_total  0.21428571428571427\n",
      "gini_total  0.14285714285714285\n",
      "gini_total  0.4857142857142857\n",
      "El mejor atributo de split es: ponehuevos indice gini: 0.21428571428571427\n"
     ]
    }
   ],
   "source": [
    "# Encontrar el mejor atributo de split\n",
    "mejor_atributo = None\n",
    "mejor_gini = float('inf')\n",
    "\n",
    "for columna in df.columns[1:-1]:  # Excluimos la primera (animal) y la última (mamifero)\n",
    "    gini = calcular_gini(columna)\n",
    "    if gini < mejor_gini:\n",
    "        mejor_gini = gini\n",
    "        mejor_atributo = columna\n",
    "\n",
    "print(\"El mejor atributo de split es:\", mejor_atributo,\"indice gini:\", mejor_gini)"
   ]
  },
  {
   "cell_type": "code",
   "execution_count": null,
   "id": "826def9f",
   "metadata": {},
   "outputs": [],
   "source": []
  }
 ],
 "metadata": {
  "kernelspec": {
   "display_name": "Python 3 (ipykernel)",
   "language": "python",
   "name": "python3"
  },
  "language_info": {
   "codemirror_mode": {
    "name": "ipython",
    "version": 3
   },
   "file_extension": ".py",
   "mimetype": "text/x-python",
   "name": "python",
   "nbconvert_exporter": "python",
   "pygments_lexer": "ipython3",
   "version": "3.11.5"
  }
 },
 "nbformat": 4,
 "nbformat_minor": 5
}
