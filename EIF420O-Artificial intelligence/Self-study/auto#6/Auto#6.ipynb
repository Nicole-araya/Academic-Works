{
 "cells": [
  {
   "cell_type": "code",
   "execution_count": 22,
   "id": "1db38f9e",
   "metadata": {},
   "outputs": [
    {
     "name": "stdout",
     "output_type": "stream",
     "text": [
      "DataFrame:\n",
      "    Provincia  Poblacion\n",
      "0    San_José    1601167\n",
      "1    Alajuela    1035464\n",
      "2     Cartago     545092\n",
      "3  Puntarenas     500166\n",
      "4     Heredia     479117\n",
      "5       Limón     470383\n",
      "6  Guanacaste     412808\n"
     ]
    }
   ],
   "source": [
    "import pandas as pd\n",
    "import numpy as np\n",
    "\n",
    "# Paso a) Cargar el CSV en un DataFrame\n",
    "df = pd.read_csv(\"poblacion_provincias_cr.csv\", header=None, names=[\"Provincia\", \"Poblacion\"])\n",
    "\n",
    "print(\"DataFrame:\")\n",
    "print(df)"
   ]
  },
  {
   "cell_type": "code",
   "execution_count": 23,
   "id": "9d8d624b",
   "metadata": {},
   "outputs": [],
   "source": [
    "# Paso b) Calcular la probabilidad p(s) de ser de una provincia s\n",
    "def calcular_probabilidad(provincia):\n",
    "    poblacion_total = df[\"Poblacion\"].sum()\n",
    "    poblacion_provincia = df[df[\"Provincia\"] == provincia][\"Poblacion\"].values[0]\n",
    "    return poblacion_provincia / poblacion_total"
   ]
  },
  {
   "cell_type": "code",
   "execution_count": 24,
   "id": "57c41acd",
   "metadata": {},
   "outputs": [],
   "source": [
    "# Paso c) Calcular la entropía H(s) de cada provincia\n",
    "def calcular_entropia(provincia):\n",
    "    probabilidad = calcular_probabilidad(provincia)\n",
    "    if probabilidad == 0:\n",
    "        return 0\n",
    "    else:\n",
    "        return probabilidad * np.log2(1 / probabilidad)"
   ]
  },
  {
   "cell_type": "code",
   "execution_count": 25,
   "id": "36d2c8fb",
   "metadata": {},
   "outputs": [
    {
     "name": "stdout",
     "output_type": "stream",
     "text": [
      "\n",
      "Entropía total de las provincias: 2.609202103993833\n"
     ]
    }
   ],
   "source": [
    "# Paso d) Calcular la entropía total de las provincias\n",
    "entropia_total = sum(calcular_entropia(provincia) for provincia in df[\"Provincia\"])\n",
    "\n",
    "print(\"\\nEntropía total de las provincias:\", entropia_total)"
   ]
  },
  {
   "cell_type": "code",
   "execution_count": 26,
   "id": "013bf9c1",
   "metadata": {},
   "outputs": [
    {
     "name": "stdout",
     "output_type": "stream",
     "text": [
      "Entropía de Heredia: 0.3225815802576514\n",
      "Entropía de San José: 0.5255015423312867\n"
     ]
    }
   ],
   "source": [
    "# Paso e) Calcular los bits para codificar Heredia y San José\n",
    "entropia_heredia = calcular_entropia(\"Heredia\")\n",
    "entropia_san_jose = calcular_entropia(\"San_José\")\n",
    "\n",
    "print(\"Entropía de Heredia:\", entropia_heredia)\n",
    "print(\"Entropía de San José:\", entropia_san_jose)\n",
    "\n"
   ]
  },
  {
   "cell_type": "code",
   "execution_count": 27,
   "id": "d41b5d78",
   "metadata": {},
   "outputs": [
    {
     "name": "stdout",
     "output_type": "stream",
     "text": [
      "DataFrame con entropías:\n",
      "    Provincia  Poblacion  Entropia\n",
      "0    San_José    1601167  0.525502\n",
      "1    Alajuela    1035464  0.468927\n",
      "2     Cartago     545092  0.346889\n",
      "3  Puntarenas     500166  0.330603\n",
      "4     Heredia     479117  0.322582\n",
      "5       Limón     470383  0.319176\n",
      "6  Guanacaste     412808  0.295524\n"
     ]
    }
   ],
   "source": [
    "# Añadir una columna con las entropías de las provincias\n",
    "df[\"Entropia\"] = df[\"Provincia\"].apply(calcular_entropia)\n",
    "\n",
    "print(\"DataFrame con entropías:\")\n",
    "print(df)"
   ]
  },
  {
   "cell_type": "code",
   "execution_count": null,
   "id": "85a827ef",
   "metadata": {},
   "outputs": [],
   "source": []
  }
 ],
 "metadata": {
  "kernelspec": {
   "display_name": "Python 3 (ipykernel)",
   "language": "python",
   "name": "python3"
  },
  "language_info": {
   "codemirror_mode": {
    "name": "ipython",
    "version": 3
   },
   "file_extension": ".py",
   "mimetype": "text/x-python",
   "name": "python",
   "nbconvert_exporter": "python",
   "pygments_lexer": "ipython3",
   "version": "3.11.5"
  }
 },
 "nbformat": 4,
 "nbformat_minor": 5
}
