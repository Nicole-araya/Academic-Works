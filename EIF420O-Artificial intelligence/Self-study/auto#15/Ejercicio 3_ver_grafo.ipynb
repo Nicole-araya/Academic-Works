{
 "cells": [
  {
   "cell_type": "code",
   "execution_count": 6,
   "id": "03945c2e",
   "metadata": {},
   "outputs": [
    {
     "ename": "ValueError",
     "evalue": "not enough values to unpack (expected 3, got 2)",
     "output_type": "error",
     "traceback": [
      "\u001b[1;31m---------------------------------------------------------------------------\u001b[0m",
      "\u001b[1;31mValueError\u001b[0m                                Traceback (most recent call last)",
      "Cell \u001b[1;32mIn[6], line 38\u001b[0m\n\u001b[0;32m     20\u001b[0m     \u001b[38;5;28;01mreturn\u001b[39;00m dot_code\n\u001b[0;32m     22\u001b[0m prolog_code \u001b[38;5;241m=\u001b[39m \u001b[38;5;124m\"\"\"\u001b[39m\n\u001b[0;32m     23\u001b[0m \u001b[38;5;124mnodo(a).\u001b[39m\n\u001b[0;32m     24\u001b[0m \u001b[38;5;124mnodo(b).\u001b[39m\n\u001b[1;32m   (...)\u001b[0m\n\u001b[0;32m     35\u001b[0m \u001b[38;5;124marista(f, d).\u001b[39m\n\u001b[0;32m     36\u001b[0m \u001b[38;5;124m\"\"\"\u001b[39m\n\u001b[1;32m---> 38\u001b[0m dot_code \u001b[38;5;241m=\u001b[39m prolog_to_dot(prolog_code)\n\u001b[0;32m     40\u001b[0m \u001b[38;5;28mprint\u001b[39m(dot_code)\n",
      "Cell \u001b[1;32mIn[6], line 14\u001b[0m, in \u001b[0;36mprolog_to_dot\u001b[1;34m(prolog_code)\u001b[0m\n\u001b[0;32m     12\u001b[0m \u001b[38;5;28;01mif\u001b[39;00m \u001b[38;5;124m\"\u001b[39m\u001b[38;5;124marista\u001b[39m\u001b[38;5;124m\"\u001b[39m \u001b[38;5;129;01min\u001b[39;00m rule:\n\u001b[0;32m     13\u001b[0m     \u001b[38;5;28;01mif\u001b[39;00m \u001b[38;5;124m\"\u001b[39m\u001b[38;5;124m(\u001b[39m\u001b[38;5;124m\"\u001b[39m \u001b[38;5;129;01min\u001b[39;00m rule:\n\u001b[1;32m---> 14\u001b[0m         _, from_node, to_node \u001b[38;5;241m=\u001b[39m rule\u001b[38;5;241m.\u001b[39msplit(\u001b[38;5;124m\"\u001b[39m\u001b[38;5;124m(\u001b[39m\u001b[38;5;124m\"\u001b[39m)\n\u001b[0;32m     15\u001b[0m         from_node \u001b[38;5;241m=\u001b[39m from_node\u001b[38;5;241m.\u001b[39msplit(\u001b[38;5;124m\"\u001b[39m\u001b[38;5;124m,\u001b[39m\u001b[38;5;124m\"\u001b[39m)[\u001b[38;5;241m0\u001b[39m]\n\u001b[0;32m     16\u001b[0m         to_node \u001b[38;5;241m=\u001b[39m to_node\u001b[38;5;241m.\u001b[39msplit(\u001b[38;5;124m\"\u001b[39m\u001b[38;5;124m,\u001b[39m\u001b[38;5;124m\"\u001b[39m)[\u001b[38;5;241m1\u001b[39m]\u001b[38;5;241m.\u001b[39msplit(\u001b[38;5;124m\"\u001b[39m\u001b[38;5;124m)\u001b[39m\u001b[38;5;124m\"\u001b[39m)[\u001b[38;5;241m0\u001b[39m]\n",
      "\u001b[1;31mValueError\u001b[0m: not enough values to unpack (expected 3, got 2)"
     ]
    }
   ],
   "source": [
    "def prolog_to_dot(prolog_code):\n",
    "    dot_code = \"digraph G {\\n\"\n",
    "    \n",
    "    # Convertir nodos a DOT\n",
    "    for node in prolog_code.split(\"\\n\"):\n",
    "        if node.startswith(\"nodo(\"):\n",
    "            nodo_name = node.split(\"(\")[1].split(\")\")[0]\n",
    "            dot_code += f'    {nodo_name};\\n'\n",
    "    \n",
    "    # Convertir conexiones a DOT\n",
    "    for rule in prolog_code.split(\"\\n\"):\n",
    "        if \"arista\" in rule:\n",
    "            if \"(\" in rule:\n",
    "                _, from_node, to_node = rule.split(\"(\")\n",
    "                from_node = from_node.split(\",\")[0]\n",
    "                to_node = to_node.split(\",\")[1].split(\")\")[0]\n",
    "                dot_code += f'    {from_node} -> {to_node};\\n'\n",
    "    \n",
    "    dot_code += \"}\"\n",
    "    return dot_code\n",
    "\n",
    "prolog_code = \"\"\"\n",
    "nodo(a).\n",
    "nodo(b).\n",
    "nodo(c).\n",
    "nodo(d).\n",
    "nodo(e).\n",
    "nodo(f).\n",
    "\n",
    "arista(a, b).\n",
    "arista(a, d).\n",
    "arista(b, c).\n",
    "arista(b, f).\n",
    "arista(c, e).\n",
    "arista(f, d).\n",
    "\"\"\"\n",
    "\n",
    "dot_code = prolog_to_dot(prolog_code)\n",
    "\n",
    "print(dot_code)\n"
   ]
  },
  {
   "cell_type": "code",
   "execution_count": null,
   "id": "6ce4290c",
   "metadata": {},
   "outputs": [],
   "source": []
  }
 ],
 "metadata": {
  "kernelspec": {
   "display_name": "Python 3 (ipykernel)",
   "language": "python",
   "name": "python3"
  },
  "language_info": {
   "codemirror_mode": {
    "name": "ipython",
    "version": 3
   },
   "file_extension": ".py",
   "mimetype": "text/x-python",
   "name": "python",
   "nbconvert_exporter": "python",
   "pygments_lexer": "ipython3",
   "version": "3.11.5"
  }
 },
 "nbformat": 4,
 "nbformat_minor": 5
}
