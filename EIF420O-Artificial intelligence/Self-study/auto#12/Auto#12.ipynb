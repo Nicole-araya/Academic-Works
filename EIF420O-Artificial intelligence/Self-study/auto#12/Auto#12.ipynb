{
 "cells": [
  {
   "cell_type": "code",
   "execution_count": 9,
   "id": "9383db49",
   "metadata": {},
   "outputs": [],
   "source": [
    "import numpy as np\n",
    "\n",
    "CM_C = np.array([[20, 5, 3],\n",
    "                  [4, 18, 2],\n",
    "                  [1, 3, 19]])\n"
   ]
  },
  {
   "cell_type": "code",
   "execution_count": 10,
   "id": "b0f15eab",
   "metadata": {},
   "outputs": [],
   "source": [
    "def calcular_CM_m(CM_C):\n",
    "    VP = CM_C[0, 0]  # Verdaderos positivos (manzanas clasificadas correctamente)\n",
    "    FP = CM_C[1:, 0].sum()  # Falsos positivos (no manzanas clasificadas incorrectamente como manzanas)\n",
    "    VN = CM_C[1:, 1:].sum()  # Verdaderos negativos (no manzanas clasificadas correctamente)\n",
    "    FN = CM_C[0, 1:].sum()  # Falsos negativos (manzanas clasificadas incorrectamente como no manzanas)\n",
    "   \n",
    "    CM_m = np.array([[VN, FP], [FN, VP]])\n",
    "\n",
    "    return CM_m"
   ]
  },
  {
   "cell_type": "code",
   "execution_count": 14,
   "id": "7089c008",
   "metadata": {},
   "outputs": [],
   "source": [
    "CM_m = calcular_CM_m(CM_C)\n",
    "\n",
    "#CM_m"
   ]
  },
  {
   "cell_type": "code",
   "execution_count": 13,
   "id": "e5cb8c1e",
   "metadata": {},
   "outputs": [
    {
     "name": "stdout",
     "output_type": "stream",
     "text": [
      "Matriz CM_m:\n",
      "          No manzana    manzana\n",
      "No manzana    42          5\n",
      "Manzana       8           20\n"
     ]
    }
   ],
   "source": [
    "print(\"Matriz CM_m:\")\n",
    "print(\"          No manzana    manzana\")\n",
    "print(\"No manzana   \", CM_m[0, 0], \"        \", CM_m[0, 1])\n",
    "print(\"Manzana      \", CM_m[1, 0], \"         \", CM_m[1, 1])"
   ]
  },
  {
   "cell_type": "code",
   "execution_count": 31,
   "id": "514edd8a",
   "metadata": {},
   "outputs": [],
   "source": [
    "def calcular_Accuracy(CM_m):\n",
    "    accuracy = (CM_m[0, 0] + CM_m[1, 1]) / CM_m.sum()\n",
    "    return accuracy"
   ]
  },
  {
   "cell_type": "code",
   "execution_count": 32,
   "id": "93d31bcc",
   "metadata": {},
   "outputs": [],
   "source": [
    "def calcular_Precision(CM_m):\n",
    "    precision = CM_m[1, 1] / (CM_m[1, 1] + CM_m[0, 1])\n",
    "    return precision"
   ]
  },
  {
   "cell_type": "code",
   "execution_count": 33,
   "id": "35f87deb",
   "metadata": {},
   "outputs": [],
   "source": [
    "def calcular_Recall(CM_m):\n",
    "    recall = CM_m[1, 1] / (CM_m[1, 1] + CM_m[1, 0] )\n",
    "    return recall"
   ]
  },
  {
   "cell_type": "code",
   "execution_count": 34,
   "id": "cd6380d1",
   "metadata": {},
   "outputs": [],
   "source": [
    "def calcular_F1(precision, recall):\n",
    "    f1 = 2 * ( (precision * recall) / (precision + recall) )\n",
    "    return f1"
   ]
  },
  {
   "cell_type": "code",
   "execution_count": 35,
   "id": "51dccfe8",
   "metadata": {},
   "outputs": [
    {
     "name": "stdout",
     "output_type": "stream",
     "text": [
      "Accuracy: 0.8266666666666667\n",
      "Precision: 0.8\n",
      "Recall: 0.7142857142857143\n",
      "F1: 0.7547169811320756\n"
     ]
    }
   ],
   "source": [
    "accuracy = calcular_Accuracy(CM_m)\n",
    "precision = calcular_Precision(CM_m)\n",
    "recall = calcular_Recall(CM_m)\n",
    "f1 = calcular_F1(precision, recall)\n",
    "\n",
    "print(\"Accuracy:\", accuracy )\n",
    "print(\"Precision:\", precision)\n",
    "print(\"Recall:\", recall)\n",
    "print(\"F1:\", f1)"
   ]
  },
  {
   "cell_type": "code",
   "execution_count": null,
   "id": "b643f1f5",
   "metadata": {},
   "outputs": [],
   "source": []
  }
 ],
 "metadata": {
  "kernelspec": {
   "display_name": "Python 3 (ipykernel)",
   "language": "python",
   "name": "python3"
  },
  "language_info": {
   "codemirror_mode": {
    "name": "ipython",
    "version": 3
   },
   "file_extension": ".py",
   "mimetype": "text/x-python",
   "name": "python",
   "nbconvert_exporter": "python",
   "pygments_lexer": "ipython3",
   "version": "3.11.5"
  }
 },
 "nbformat": 4,
 "nbformat_minor": 5
}
