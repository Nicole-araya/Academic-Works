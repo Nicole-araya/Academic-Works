{
 "cells": [
  {
   "cell_type": "code",
   "execution_count": 1,
   "id": "c174698b",
   "metadata": {},
   "outputs": [],
   "source": [
    "import numpy as np\n",
    "import math"
   ]
  },
  {
   "cell_type": "code",
   "execution_count": 2,
   "id": "060aaac4",
   "metadata": {},
   "outputs": [],
   "source": [
    "data = np.genfromtxt('mamiferos.csv',dtype=str, delimiter=',')"
   ]
  },
  {
   "cell_type": "code",
   "execution_count": 3,
   "id": "3eccf5a4",
   "metadata": {},
   "outputs": [],
   "source": [
    "features_index = {n:i for i,n in enumerate (data[0,1:])} #1: quita la primera columna"
   ]
  },
  {
   "cell_type": "code",
   "execution_count": 4,
   "id": "e275a1f1",
   "metadata": {},
   "outputs": [],
   "source": [
    "def column(f):return features_index[f]"
   ]
  },
  {
   "cell_type": "code",
   "execution_count": 5,
   "id": "3fed3e90",
   "metadata": {},
   "outputs": [],
   "source": [
    "x = data[1:, 1:].astype(int)"
   ]
  },
  {
   "cell_type": "code",
   "execution_count": 5,
   "id": "02c1c0ed",
   "metadata": {},
   "outputs": [],
   "source": [
    "animals = data[1:,0]"
   ]
  },
  {
   "cell_type": "code",
   "execution_count": 7,
   "id": "4a911234",
   "metadata": {},
   "outputs": [],
   "source": [
    "ponehuevos = x[:, column('ponehuevos')] #:, todos en la columna\n",
    "nada = x[:, column('nada')]\n",
    "vuela = x[:, column('vuela')]"
   ]
  },
  {
   "cell_type": "code",
   "execution_count": 48,
   "id": "b1228ab8",
   "metadata": {},
   "outputs": [
    {
     "data": {
      "text/plain": [
       "[0.5714285714285714,\n",
       " 0.4285714285714286,\n",
       " 0.7142857142857143,\n",
       " 0.2857142857142857,\n",
       " 0.2857142857142857,\n",
       " 0.7142857142857143]"
      ]
     },
     "execution_count": 48,
     "metadata": {},
     "output_type": "execute_result"
    }
   ],
   "source": [
    "prob_huevos = np.sum(ponehuevos) / len(ponehuevos)\n",
    "prob_nada = np.sum(nada) / len(nada)\n",
    "prob_vuela = np.sum(vuela) / len(vuela)\n",
    "\n",
    "prob_no_huevos = 1 - prob_huevos\n",
    "prob_no_nada = 1 - prob_nada\n",
    "prob_no_vuela = 1 - prob_vuela\n",
    "\n",
    "combinaciones = [prob_huevos, prob_no_huevos, prob_nada, prob_no_nada, prob_vuela, prob_no_vuela]\n",
    "\n",
    "combinaciones"
   ]
  },
  {
   "cell_type": "code",
   "execution_count": 56,
   "id": "27b1980c",
   "metadata": {},
   "outputs": [
    {
     "data": {
      "text/plain": [
       "(0.863120568566631, 0.7142857142857143)"
      ]
     },
     "execution_count": 56,
     "metadata": {},
     "output_type": "execute_result"
    }
   ],
   "source": [
    "def calcular_min_entropia():\n",
    "    condicionales = []\n",
    "    minima_entropia = float('inf')\n",
    "    \n",
    "    for i in range(len(combinaciones)):\n",
    "        for j in range(i+1, len(combinaciones)):\n",
    "            if i == j:\n",
    "                continue\n",
    "            prob_interseccion = combinaciones[i] * combinaciones[j]  # Probabilidad de la intersección\n",
    "            prob_condicional = prob_interseccion / combinaciones[j]  # Probabilidad condicional\n",
    "            condicionales.append(prob_condicional)\n",
    "            \n",
    "    for i in range(len(condicionales)):\n",
    "        entropia = - (condicionales[i] * math.log(condicionales[i], 2) + \n",
    "                      (1 - condicionales[i]) * math.log(1 - condicionales[i], 2))\n",
    "        if entropia < minima_entropia:\n",
    "            minima_entropia = entropia\n",
    "            mejor_combinacion = i\n",
    "    \n",
    "    return minima_entropia, condicionales[mejor_combinacion]\n",
    "\n",
    "calcular_min_entropia()"
   ]
  }
 ],
 "metadata": {
  "kernelspec": {
   "display_name": "Python 3 (ipykernel)",
   "language": "python",
   "name": "python3"
  },
  "language_info": {
   "codemirror_mode": {
    "name": "ipython",
    "version": 3
   },
   "file_extension": ".py",
   "mimetype": "text/x-python",
   "name": "python",
   "nbconvert_exporter": "python",
   "pygments_lexer": "ipython3",
   "version": "3.11.5"
  }
 },
 "nbformat": 4,
 "nbformat_minor": 5
}
