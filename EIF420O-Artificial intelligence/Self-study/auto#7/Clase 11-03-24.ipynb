{
 "cells": [
  {
   "cell_type": "code",
   "execution_count": 1,
   "id": "91b0e6a6",
   "metadata": {},
   "outputs": [],
   "source": [
    "import numpy as np  #numpy solo lee un tipo en un archivo entonces leeremos todo como string en el csv, pandas si hace esto solo"
   ]
  },
  {
   "cell_type": "code",
   "execution_count": 7,
   "id": "35568d86",
   "metadata": {},
   "outputs": [],
   "source": [
    "data = np.loadtxt('mamiferos.csv', dtype=str, delimiter = ',')"
   ]
  },
  {
   "cell_type": "code",
   "execution_count": 8,
   "id": "192ce3cf",
   "metadata": {},
   "outputs": [
    {
     "data": {
      "text/plain": [
       "array([['animal', 'vuela', 'ponehuevos', 'nada', 'mamifero'],\n",
       "       ['gallina', '0', '1', '0', '0'],\n",
       "       ['perro', '0', '0', '1', '1'],\n",
       "       ['gato', '0', '0', '1', '1'],\n",
       "       ['pinguino', '0', '1', '1', '0'],\n",
       "       ['pato', '1', '1', '1', '0'],\n",
       "       ['ornitorrinco', '0', '1', '1', '1'],\n",
       "       ['murcielago', '1', '0', '0', '1']], dtype='<U12')"
      ]
     },
     "execution_count": 8,
     "metadata": {},
     "output_type": "execute_result"
    }
   ],
   "source": [
    "data"
   ]
  },
  {
   "cell_type": "code",
   "execution_count": 11,
   "id": "2b91063c",
   "metadata": {},
   "outputs": [
    {
     "data": {
      "text/plain": [
       "(8, 5)"
      ]
     },
     "execution_count": 11,
     "metadata": {},
     "output_type": "execute_result"
    }
   ],
   "source": [
    "data.shape #me da un array lineal"
   ]
  },
  {
   "cell_type": "code",
   "execution_count": 12,
   "id": "a69e59e3",
   "metadata": {},
   "outputs": [
    {
     "data": {
      "text/plain": [
       "array(['animal', 'vuela', 'ponehuevos', 'nada', 'mamifero'], dtype='<U12')"
      ]
     },
     "execution_count": 12,
     "metadata": {},
     "output_type": "execute_result"
    }
   ],
   "source": [
    "data[0]"
   ]
  },
  {
   "cell_type": "code",
   "execution_count": 34,
   "id": "04a7532d",
   "metadata": {},
   "outputs": [],
   "source": [
    "features_index = {n:i for i, n in enumerate (data[0,1:])} #saco animal del feature"
   ]
  },
  {
   "cell_type": "code",
   "execution_count": 35,
   "id": "0b21e2cc",
   "metadata": {},
   "outputs": [
    {
     "data": {
      "text/plain": [
       "{'vuela': 0, 'ponehuevos': 1, 'nada': 2, 'mamifero': 3}"
      ]
     },
     "execution_count": 35,
     "metadata": {},
     "output_type": "execute_result"
    }
   ],
   "source": [
    "features_index"
   ]
  },
  {
   "cell_type": "code",
   "execution_count": 36,
   "id": "f4d2e17e",
   "metadata": {},
   "outputs": [],
   "source": [
    "def column(f): return features_index[f]"
   ]
  },
  {
   "cell_type": "code",
   "execution_count": 37,
   "id": "b8cb511a",
   "metadata": {},
   "outputs": [
    {
     "data": {
      "text/plain": [
       "0"
      ]
     },
     "execution_count": 37,
     "metadata": {},
     "output_type": "execute_result"
    }
   ],
   "source": [
    "column('vuela')"
   ]
  },
  {
   "cell_type": "code",
   "execution_count": 38,
   "id": "4b89b417",
   "metadata": {},
   "outputs": [],
   "source": [
    "X = data[1:,1:].astype(int)"
   ]
  },
  {
   "cell_type": "code",
   "execution_count": 39,
   "id": "20338b41",
   "metadata": {},
   "outputs": [
    {
     "data": {
      "text/plain": [
       "array([[0, 1, 0, 0],\n",
       "       [0, 0, 1, 1],\n",
       "       [0, 0, 1, 1],\n",
       "       [0, 1, 1, 0],\n",
       "       [1, 1, 1, 0],\n",
       "       [0, 1, 1, 1],\n",
       "       [1, 0, 0, 1]])"
      ]
     },
     "execution_count": 39,
     "metadata": {},
     "output_type": "execute_result"
    }
   ],
   "source": [
    "X"
   ]
  },
  {
   "cell_type": "code",
   "execution_count": 40,
   "id": "fd5379cc",
   "metadata": {},
   "outputs": [
    {
     "data": {
      "text/plain": [
       "array([1, 0, 0, 1, 1, 1, 0])"
      ]
     },
     "execution_count": 40,
     "metadata": {},
     "output_type": "execute_result"
    }
   ],
   "source": [
    "ponehuevos = X[:,column('ponehuevos')] #deme todos de la columna ponehuevos\n",
    "ponehuevos"
   ]
  },
  {
   "cell_type": "code",
   "execution_count": 41,
   "id": "afe253a0",
   "metadata": {},
   "outputs": [
    {
     "data": {
      "text/plain": [
       "array([0, 1, 1, 1, 1, 1, 0])"
      ]
     },
     "execution_count": 41,
     "metadata": {},
     "output_type": "execute_result"
    }
   ],
   "source": [
    "nada = X[:, column('nada')] \n",
    "nada"
   ]
  },
  {
   "cell_type": "code",
   "execution_count": 42,
   "id": "97578de3",
   "metadata": {},
   "outputs": [
    {
     "data": {
      "text/plain": [
       "array([0, 0, 0, 1, 1, 1, 0])"
      ]
     },
     "execution_count": 42,
     "metadata": {},
     "output_type": "execute_result"
    }
   ],
   "source": [
    "ponehuevos & nada #and logico"
   ]
  },
  {
   "cell_type": "code",
   "execution_count": 45,
   "id": "b570f6d6",
   "metadata": {},
   "outputs": [
    {
     "data": {
      "text/plain": [
       "array([112, 123, 145])"
      ]
     },
     "execution_count": 45,
     "metadata": {},
     "output_type": "execute_result"
    }
   ],
   "source": [
    "#----------APARTE -----------------\n",
    "a = np.array([12,23,45])\n",
    "a + 100 #numpy hace esto\n",
    "#(a + a) % 2 + 1"
   ]
  },
  {
   "cell_type": "code",
   "execution_count": 49,
   "id": "4dddb40b",
   "metadata": {},
   "outputs": [
    {
     "data": {
      "text/plain": [
       "array([False, False, False,  True,  True,  True, False])"
      ]
     },
     "execution_count": 49,
     "metadata": {},
     "output_type": "execute_result"
    }
   ],
   "source": [
    "ponehuevos & nada == 1"
   ]
  },
  {
   "cell_type": "code",
   "execution_count": 53,
   "id": "eecb9fbe",
   "metadata": {},
   "outputs": [
    {
     "data": {
      "text/plain": [
       "array(['gallina', 'perro', 'gato', 'pinguino', 'pato', 'ornitorrinco',\n",
       "       'murcielago'], dtype='<U12')"
      ]
     },
     "execution_count": 53,
     "metadata": {},
     "output_type": "execute_result"
    }
   ],
   "source": [
    "animals = data[1:,0]\n",
    "animals"
   ]
  },
  {
   "cell_type": "code",
   "execution_count": 51,
   "id": "9c1f48fb",
   "metadata": {},
   "outputs": [
    {
     "data": {
      "text/plain": [
       "array(['pinguino', 'pato', 'ornitorrinco'], dtype='<U12')"
      ]
     },
     "execution_count": 51,
     "metadata": {},
     "output_type": "execute_result"
    }
   ],
   "source": [
    "animals[(ponehuevos & nada == 1)]"
   ]
  },
  {
   "cell_type": "code",
   "execution_count": null,
   "id": "22d7bfdd",
   "metadata": {},
   "outputs": [],
   "source": []
  }
 ],
 "metadata": {
  "kernelspec": {
   "display_name": "Python 3 (ipykernel)",
   "language": "python",
   "name": "python3"
  },
  "language_info": {
   "codemirror_mode": {
    "name": "ipython",
    "version": 3
   },
   "file_extension": ".py",
   "mimetype": "text/x-python",
   "name": "python",
   "nbconvert_exporter": "python",
   "pygments_lexer": "ipython3",
   "version": "3.11.5"
  }
 },
 "nbformat": 4,
 "nbformat_minor": 5
}
