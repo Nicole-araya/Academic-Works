{
 "cells": [
  {
   "cell_type": "code",
   "execution_count": 6,
   "id": "1da71f69",
   "metadata": {},
   "outputs": [],
   "source": [
    "import pandas as pd\n",
    "import math\n",
    "\n",
    "df = pd.read_csv('mamiferos.csv')"
   ]
  },
  {
   "cell_type": "code",
   "execution_count": 7,
   "id": "4c0faf33",
   "metadata": {},
   "outputs": [],
   "source": [
    "# Función para calcular la entropía\n",
    "def calcular_entropia(data, target):\n",
    "    classes = data[target].unique()\n",
    "    entropia = 0\n",
    "    total = len(data)\n",
    "    for c in classes:\n",
    "        prob = len(data[data[target] == c]) / total\n",
    "        entropia += -prob * math.log2(prob)\n",
    "    return entropia"
   ]
  },
  {
   "cell_type": "code",
   "execution_count": 8,
   "id": "c9ad4f37",
   "metadata": {},
   "outputs": [],
   "source": [
    "# Función para calcular la entropía de una partición basada en un feature\n",
    "def calcular_entropia_particion(data, feature, target):\n",
    "    unique_values = data[feature].unique()\n",
    "    entropia_total = 0\n",
    "    total = len(data)\n",
    "    for value in unique_values:\n",
    "        subset = data[data[feature] == value]\n",
    "        prob = len(subset) / total\n",
    "        entropia = calcular_entropia(subset, target)\n",
    "        entropia_total += prob * entropia\n",
    "    return entropia_total"
   ]
  },
  {
   "cell_type": "code",
   "execution_count": 9,
   "id": "34b30dfb",
   "metadata": {},
   "outputs": [],
   "source": [
    "# Calcular entropía para cada feature\n",
    "features = ['vuela', 'ponehuevos', 'nada']\n",
    "entropias = {}\n",
    "for feature in features:\n",
    "    entropia = calcular_entropia_particion(df, feature, 'mamifero')\n",
    "    entropias[feature] = entropia"
   ]
  },
  {
   "cell_type": "code",
   "execution_count": 10,
   "id": "86214ffa",
   "metadata": {},
   "outputs": [
    {
     "name": "stdout",
     "output_type": "stream",
     "text": [
      "Entropía para cada feature:\n",
      "vuela: 0.9792504246104775\n",
      "ponehuevos: 0.46358749969093305\n",
      "nada: 0.9792504246104775\n",
      "\n",
      "El feature con mínima entropía es 'ponehuevos' con una entropía de aproximadamente 0.46358749969093305.\n"
     ]
    }
   ],
   "source": [
    "# Seleccionar el feature con mínima entropía\n",
    "min_entropia_feature = min(entropias, key=entropias.get)\n",
    "min_entropia = entropias[min_entropia_feature]\n",
    "\n",
    "\n",
    "print(\"Entropía para cada feature:\")\n",
    "for feature, entropia in entropias.items():\n",
    "    print(f\"{feature}: {entropia}\")\n",
    "\n",
    "print(f\"\\nEl feature con mínima entropía es '{min_entropia_feature}' con una entropía de aproximadamente {min_entropia}.\")\n"
   ]
  },
  {
   "cell_type": "code",
   "execution_count": null,
   "id": "ad9739cd",
   "metadata": {},
   "outputs": [],
   "source": []
  }
 ],
 "metadata": {
  "kernelspec": {
   "display_name": "Python 3 (ipykernel)",
   "language": "python",
   "name": "python3"
  },
  "language_info": {
   "codemirror_mode": {
    "name": "ipython",
    "version": 3
   },
   "file_extension": ".py",
   "mimetype": "text/x-python",
   "name": "python",
   "nbconvert_exporter": "python",
   "pygments_lexer": "ipython3",
   "version": "3.11.5"
  }
 },
 "nbformat": 4,
 "nbformat_minor": 5
}
