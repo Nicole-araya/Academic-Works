{
 "cells": [
  {
   "cell_type": "code",
   "execution_count": 3,
   "id": "35083c1e",
   "metadata": {},
   "outputs": [],
   "source": [
    "import numpy as np"
   ]
  },
  {
   "cell_type": "code",
   "execution_count": 4,
   "id": "6499015c",
   "metadata": {},
   "outputs": [],
   "source": [
    "np.random.seed(42)"
   ]
  },
  {
   "cell_type": "code",
   "execution_count": 1,
   "id": "04ccdfe6",
   "metadata": {},
   "outputs": [],
   "source": [
    "def matriz_X_rand_Y(m):\n",
    "    X0 = np.ones((m, 1))#columna/vector de solo 1s\n",
    "    #m x 1 m filas con 1 columna/valor\n",
    "    #print(X0)\n",
    "\n",
    "    X1 = np.random.rand(m, 1)\n",
    "    #print(X1)\n",
    "\n",
    "    X2 = np.random.rand(m, 1)\n",
    "    #print(X2)\n",
    "\n",
    "    X = np.hstack((X0, X1, X2))\n",
    "    #print(X)\n",
    "    \n",
    "    noise = 0.05 * np.random.rand(m, 1)/1000 #ruido del 5%\n",
    "    #y es una ecuacion entre vectores.\n",
    "    Y = 1 + 2*X1 + 3*X2 + noise\n",
    "    \n",
    "    return X, Y"
   ]
  },
  {
   "cell_type": "code",
   "execution_count": 2,
   "id": "48d4b234",
   "metadata": {},
   "outputs": [],
   "source": [
    "def matriz_X_Y(w):\n",
    "    ones = np.ones((len(w),1))\n",
    "    w = np.array(w)\n",
    "    n = len(w)\n",
    "    W = w[:, np.newaxis] #se trasforma w de vector a matriz\n",
    "    X = np.hstack([ones, W])\n",
    "    \n",
    "    X1 = X[:, 1] #Segunda columna de X (correspondiente a 'w')\n",
    "    \n",
    "    #Generar vector Y utilizando una relación lineal\n",
    "    Y =  2*X1\n",
    "    Y = Y[:, np.newaxis]\n",
    "    Y = Y + np.random.rand(len(w), 1)/1000 \n",
    "    \n",
    "    return X, Y    "
   ]
  },
  {
   "cell_type": "code",
   "execution_count": 5,
   "id": "38513c01",
   "metadata": {},
   "outputs": [],
   "source": [
    "def calcular_hat(X, y):\n",
    "    w_star = np.linalg.inv(X.T @ X) @ X.T @ y#ecuacion normal -> modelo\n",
    "    # Calcular las predicciones (y_hat) usando el modelo entrenado (w_star)\n",
    "    y_hat = X @ w_star\n",
    "    \n",
    "    #print(w_star)\n",
    "    #print(y_hat)\n",
    "    \n",
    "    return y_hat"
   ]
  },
  {
   "cell_type": "code",
   "execution_count": 6,
   "id": "7fdca6fb",
   "metadata": {},
   "outputs": [],
   "source": [
    "def calcular_mse(y, y_hat, n):\n",
    "    mse = sum((y + y_hat)**2)/n #n=cant de todos los datos\n",
    "    return mse"
   ]
  },
  {
   "cell_type": "code",
   "execution_count": 9,
   "id": "1be32d65",
   "metadata": {},
   "outputs": [
    {
     "name": "stdout",
     "output_type": "stream",
     "text": [
      "Error cuadrático medio: [61.45765099]\n"
     ]
    }
   ],
   "source": [
    "m = 10\n",
    "X,Y = matriz_X_rand_Y(m)\n",
    "n = len(Y)\n",
    "print(\"Error cuadrático medio:\",calcular_mse(Y, calcular_hat(X, Y), n))"
   ]
  },
  {
   "cell_type": "code",
   "execution_count": 10,
   "id": "55278701",
   "metadata": {},
   "outputs": [
    {
     "name": "stdout",
     "output_type": "stream",
     "text": [
      "Error cuadrático medio de w: [74.68024977]\n"
     ]
    }
   ],
   "source": [
    "W, W_y = matriz_X_Y([1,2,3])\n",
    "W_n = len(W_y)\n",
    "print(\"Error cuadrático medio de w:\",calcular_mse(W_y, calcular_hat(W, W_y), W_n))"
   ]
  }
 ],
 "metadata": {
  "kernelspec": {
   "display_name": "Python 3 (ipykernel)",
   "language": "python",
   "name": "python3"
  },
  "language_info": {
   "codemirror_mode": {
    "name": "ipython",
    "version": 3
   },
   "file_extension": ".py",
   "mimetype": "text/x-python",
   "name": "python",
   "nbconvert_exporter": "python",
   "pygments_lexer": "ipython3",
   "version": "3.11.5"
  }
 },
 "nbformat": 4,
 "nbformat_minor": 5
}
