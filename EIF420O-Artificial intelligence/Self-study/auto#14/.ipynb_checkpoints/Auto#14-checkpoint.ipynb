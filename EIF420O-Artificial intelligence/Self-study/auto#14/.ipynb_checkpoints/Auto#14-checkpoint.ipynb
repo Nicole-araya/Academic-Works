{
 "cells": [
  {
   "cell_type": "code",
   "execution_count": 34,
   "id": "ee0ffaa6",
   "metadata": {},
   "outputs": [
    {
     "data": {
      "text/plain": [
       "'\"import numpy as np\\n\\nnp.random.seed(42)\\n\\nm = 10\\n\\n#columnas x filas\\nx0 = np.ones((m,1))  # Columna de unos\\nx1 = np.random.rand(m,1)  # Primera característica aleatoria\\nx2 = np.random.rand(m,1)  # Segunda característica aleatoria\\n\\n# Apilamos las columnas para formar la matriz de diseño X\\nx = np.hstack((x0, x1, x2))\\n\\n# Generamos el vector de respuestas \\'y\\' sin ruido\\ny = 1 + 2 * x1 + 3 * x2\\n\\n# Añadimos ruido del 5%\\nnoise = 0.05 * np.random.randn(m, 1)/1000\\ny_noisy = y + noise\\n\\n# Resolvemos para w_star usando la ecuación normal\\nw_star_noisy = np.linalg.inv(x.T @ x) @ x.T @ y_noisy\\n\\nprint(\"w_star_noisy = \", w_star_noisy.flatten())\\n\\n# Calculamos y_hat usando w_star\\n    # @ se utiliza para realizar la multiplicación de matrices\\ny_hat_noisy = x @ w_star_noisy\\ny_hat = x @ w_star\\n\\n# Función para calcular el MSE\\n    #subtract(a,b): es ai - bi para cada elemento de los vectores\\n    #square seria que los eleva a la 2 el subtract\\n    #mean:  calcula la media aritmética de los elementos\\ndef mse(a, b):\\n    return np.square(np.subtract(a, b)).mean()\\n\\n# Calculamos el MSE entre y y y_hat\\nmse_y = mse(y_noisy, y_hat_noisy)\\nprint(\"MSE entre y y y_hat: \", mse_y)\\n\\n# Calculamos el MSE entre w_real y w_star\\nw_real = np.array([1, 2, 3])\\nonesw = np.ones((len(w_real),1))\\nW = w_real[:, np.newaxis]\\nX = np.hstack([onesw, W])\\nw_star = np.linalg.inv(W.T @ W) @ x.T @ y \\n\\nprint(\"w_star = \", w_star.flatten())\\n\\nmse_w = mse(w_real, y_hat)\\nprint(\"MSE entre w y w_star: \", mse_w)'"
      ]
     },
     "execution_count": 34,
     "metadata": {},
     "output_type": "execute_result"
    }
   ],
   "source": [
    "######## AUTOESTUDIO  ################\n",
    "\n",
    "\"\"\"\"import numpy as np\n",
    "\n",
    "np.random.seed(42)\n",
    "\n",
    "m = 10\n",
    "\n",
    "#columnas x filas\n",
    "x0 = np.ones((m,1))  # Columna de unos\n",
    "x1 = np.random.rand(m,1)  # Primera característica aleatoria\n",
    "x2 = np.random.rand(m,1)  # Segunda característica aleatoria\n",
    "\n",
    "# Apilamos las columnas para formar la matriz de diseño X\n",
    "x = np.hstack((x0, x1, x2))\n",
    "\n",
    "# Generamos el vector de respuestas 'y' sin ruido\n",
    "y = 1 + 2 * x1 + 3 * x2\n",
    "\n",
    "# Añadimos ruido del 5%\n",
    "noise = 0.05 * np.random.randn(m, 1)/1000\n",
    "y_noisy = y + noise\n",
    "\n",
    "# Resolvemos para w_star usando la ecuación normal\n",
    "w_star_noisy = np.linalg.inv(x.T @ x) @ x.T @ y_noisy\n",
    "\n",
    "print(\"w_star_noisy = \", w_star_noisy.flatten())\n",
    "\n",
    "# Calculamos y_hat usando w_star\n",
    "    # @ se utiliza para realizar la multiplicación de matrices\n",
    "y_hat_noisy = x @ w_star_noisy\n",
    "y_hat = x @ w_star\n",
    "\n",
    "# Función para calcular el MSE\n",
    "    #subtract(a,b): es ai - bi para cada elemento de los vectores\n",
    "    #square seria que los eleva a la 2 el subtract\n",
    "    #mean:  calcula la media aritmética de los elementos\n",
    "def mse(a, b):\n",
    "    return np.square(np.subtract(a, b)).mean()\n",
    "\n",
    "# Calculamos el MSE entre y y y_hat\n",
    "mse_y = mse(y_noisy, y_hat_noisy)\n",
    "print(\"MSE entre y y y_hat: \", mse_y)\n",
    "\n",
    "# Calculamos el MSE entre w_real y w_star\n",
    "w_real = np.array([1, 2, 3])\n",
    "onesw = np.ones((len(w_real),1))\n",
    "W = w_real[:, np.newaxis]\n",
    "X = np.hstack([onesw, W])\n",
    "w_star = np.linalg.inv(W.T @ W) @ x.T @ y \n",
    "\n",
    "print(\"w_star = \", w_star.flatten())\n",
    "\n",
    "mse_w = mse(w_real, y_hat)\n",
    "print(\"MSE entre w y w_star: \", mse_w)\"\"\"\n"
   ]
  },
  {
   "cell_type": "code",
   "execution_count": 32,
   "id": "ffa5cc2f",
   "metadata": {},
   "outputs": [
    {
     "name": "stdout",
     "output_type": "stream",
     "text": [
      "y_hat =  [[1.81080341]\n",
      " [5.81113719]\n",
      " [4.96130799]\n",
      " [2.83429432]\n",
      " [1.8575174 ]\n",
      " [1.86220791]\n",
      " [2.02891886]\n",
      " [4.30657632]\n",
      " [3.49804129]\n",
      " [3.28978677]]\n",
      "a:  10\n",
      "MSE entre y y y_hat:  1.2806536649539267e-09\n",
      "a:  3\n",
      "MSE entre w y w_star:  3.9960716883982865\n"
     ]
    }
   ],
   "source": [
    "import numpy as np\n",
    "\n",
    "def generate_data(m=10):\n",
    "    np.random.seed(42)\n",
    "    x0 = np.ones((m,1))  # Columna de unos\n",
    "    x1 = np.random.rand(m,1)  # Primera característica aleatoria\n",
    "    x2 = np.random.rand(m,1)  # Segunda característica aleatoria\n",
    "    x = np.hstack((x0, x1, x2))\n",
    "    y = 1 + 2 * x1 + 3 * x2\n",
    "    return x, y\n",
    "\n",
    "def add_noise(y, percent_noise=5):\n",
    "    noise = percent_noise / 100 * (np.random.randn(len(y), 1)/1000)\n",
    "    y_noisy = y + noise\n",
    "    #print(\"y: \", len(y))\n",
    "    return y_noisy\n",
    "\n",
    "def calcular_hat(x, y):\n",
    "    w_star = np.linalg.inv(x.T @ x) @ x.T @ y\n",
    "    y_hat = x @ w_star\n",
    "    return y_hat\n",
    "\n",
    "def calcular_mse(a, b):\n",
    "    print(\"a: \", len(a))\n",
    "    return np.square(np.subtract(a, b)).mean()\n",
    "\n",
    "def main():\n",
    "    x, y = generate_data()\n",
    "    y_noisy = add_noise(y)\n",
    "    \n",
    "    y_hat = calcular_hat(x, y_noisy)\n",
    "    \n",
    "     \n",
    "    \n",
    "    print(\"y_hat = \", y_hat)\n",
    "    \n",
    "    \n",
    "    mse_y = calcular_mse(y_noisy, y_hat)\n",
    "    print(\"MSE entre y y y_hat: \", mse_y)\n",
    "    \n",
    "    w_real = np.array([1, 2, 3]) \n",
    "    mse_w = calcular_mse(w_real, y_hat)\n",
    "    print(\"MSE entre w y w_star: \", mse_w)\n",
    "\n",
    "if __name__ == \"__main__\":\n",
    "    main()\n"
   ]
  },
  {
   "cell_type": "code",
   "execution_count": null,
   "id": "d0540798",
   "metadata": {},
   "outputs": [],
   "source": []
  }
 ],
 "metadata": {
  "kernelspec": {
   "display_name": "Python 3 (ipykernel)",
   "language": "python",
   "name": "python3"
  },
  "language_info": {
   "codemirror_mode": {
    "name": "ipython",
    "version": 3
   },
   "file_extension": ".py",
   "mimetype": "text/x-python",
   "name": "python",
   "nbconvert_exporter": "python",
   "pygments_lexer": "ipython3",
   "version": "3.11.5"
  }
 },
 "nbformat": 4,
 "nbformat_minor": 5
}
