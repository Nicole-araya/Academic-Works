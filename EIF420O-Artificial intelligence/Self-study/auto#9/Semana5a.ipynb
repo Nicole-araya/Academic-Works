{
 "cells": [
  {
   "cell_type": "code",
   "execution_count": 102,
   "id": "19bc3505",
   "metadata": {},
   "outputs": [],
   "source": [
    "import matplotlib.pyplot as plt\n",
    "import math"
   ]
  },
  {
   "cell_type": "code",
   "execution_count": 1,
   "id": "3b79f1a3",
   "metadata": {},
   "outputs": [],
   "source": [
    "t_i = [[0,0,0,0],[0,1,1],[0,1],[0,0,1],[1,1,1],[1]]"
   ]
  },
  {
   "cell_type": "code",
   "execution_count": 32,
   "id": "1d152fee",
   "metadata": {},
   "outputs": [],
   "source": [
    "def lista_de_cortes():\n",
    "    datos = []\n",
    "    for i in range(len(t_i) + 1):\n",
    "        t_i_izq = t_i[:i]\n",
    "        t_i_der = t_i[i:]\n",
    "        \n",
    "        cant_neg_real = sum(sublista.count(0) for sublista in t_i_izq)\n",
    "        cant_pos_real = sum(sublista.count(1) for sublista in t_i_der)\n",
    "        \n",
    "        cant_neg_cal = sum(len(sublista) for sublista in t_i_izq)\n",
    "        cant_pos_cal = sum(len(sublista) for sublista in t_i_der)\n",
    "        \n",
    "        dato = {\n",
    "        \"izquierda\": t_i_izq,\n",
    "        \"derecha\": t_i_der,\n",
    "        \"pos_real\": cant_pos_real,\n",
    "        \"neg_real\": cant_neg_real,\n",
    "        \"pos_cal\": cant_pos_cal,\n",
    "        \"neg_cal\": cant_neg_cal\n",
    "    }\n",
    "        \n",
    "        datos.append(dato)\n",
    "    return datos\n",
    "        "
   ]
  },
  {
   "cell_type": "code",
   "execution_count": 70,
   "id": "7e24a0fd",
   "metadata": {},
   "outputs": [],
   "source": [
    "def calculos_verdadero_positivo(lista):\n",
    "    calculos = []\n",
    "    for dato in lista:\n",
    "        if(dato['pos_cal'] == dato['pos_real']):\n",
    "            clasif_pos = dato['pos_real']\n",
    "        else:\n",
    "            clasif_pos = dato['pos_cal'] - dato['pos_real']\n",
    "        \n",
    "        if(dato['pos_real'] == 0):\n",
    "            TP = 0\n",
    "        else:\n",
    "            TP = clasif_pos / dato['pos_real']\n",
    "        calculos.append(TP)\n",
    "    return calculos\n",
    "\n",
    "def calculos_falso_positivo(lista):\n",
    "    calculos = []\n",
    "    for dato in lista:\n",
    "        cant_pos_izq = sum(sublista.count(1) for sublista in dato['izquierda'])\n",
    "        if(dato['neg_real'] == 0):\n",
    "            FP = 0\n",
    "        else:\n",
    "            FP = cant_pos_izq / dato['neg_real']\n",
    "        calculos.append(FP)\n",
    "    return calculos"
   ]
  },
  {
   "cell_type": "code",
   "execution_count": 76,
   "id": "f76fa7fd",
   "metadata": {},
   "outputs": [],
   "source": [
    "def grafico_de_puntos(tpr, fpr):\n",
    "    plt.plot(fpr, tpr, 'bo')\n",
    "\n",
    "    # Etiquetas y título\n",
    "    plt.xlabel('False Positive Rate (FPR)')\n",
    "    plt.ylabel('True Positive Rate (TPR)')\n",
    "    plt.title('Coordenadas')\n",
    "\n",
    "    # Mostrar el gráfico\n",
    "    plt.show()"
   ]
  },
  {
   "cell_type": "code",
   "execution_count": 156,
   "id": "752e0746",
   "metadata": {},
   "outputs": [],
   "source": [
    "def calcular_minimo_corte(tpr, fpr):\n",
    "    ideal_point = (0, 1)\n",
    "\n",
    "    # Inicializar la distancia mínima y las coordenadas del punto de corte óptimo\n",
    "    min_distance = float('inf')\n",
    "    optimal_cutoff = None\n",
    "    \n",
    "    # Calcular la distancia euclidiana entre cada par de coordenadas y encontrar el punto de corte óptimo\n",
    "    for i, (t, f) in enumerate(zip(tpr, fpr)):\n",
    "        distance = math.sqrt((t - ideal_point[0])**2 + (f - ideal_point[1])**2)\n",
    "        if distance < min_distance:\n",
    "            min_distance = distance\n",
    "            optimal_cutoff = (t,f)\n",
    "            optimal_cutoff_index = i\n",
    "    return optimal_cutoff, optimal_cutoff_index"
   ]
  },
  {
   "cell_type": "code",
   "execution_count": 161,
   "id": "1eb4e8c6",
   "metadata": {},
   "outputs": [
    {
     "name": "stdout",
     "output_type": "stream",
     "text": [
      "Corte optimo es: (0, 1.0) \n",
      "En el intervalo 6\n"
     ]
    },
    {
     "data": {
      "image/png": "[encoded data removed]",
      "text/plain": [
       "<Figure size 640x480 with 1 Axes>"
      ]
     },
     "metadata": {},
     "output_type": "display_data"
    }
   ],
   "source": [
    "tpr = calculos_verdadero_positivo(lista_de_cortes())\n",
    "fpr = calculos_falso_positivo(lista_de_cortes())\n",
    "\n",
    "corte_optimo = calcular_minimo_corte(tpr, fpr)\n",
    "\n",
    "print(\"Corte optimo es:\",corte_optimo[0],\"\\nEn el intervalo\", corte_optimo[1])\n",
    "\n",
    "grafico_de_puntos(tpr, fpr)"
   ]
  }
 ],
 "metadata": {
  "kernelspec": {
   "display_name": "Python 3 (ipykernel)",
   "language": "python",
   "name": "python3"
  },
  "language_info": {
   "codemirror_mode": {
    "name": "ipython",
    "version": 3
   },
   "file_extension": ".py",
   "mimetype": "text/x-python",
   "name": "python",
   "nbconvert_exporter": "python",
   "pygments_lexer": "ipython3",
   "version": "3.11.5"
  }
 },
 "nbformat": 4,
 "nbformat_minor": 5
}
