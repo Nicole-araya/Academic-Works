{
 "cells": [
  {
   "cell_type": "code",
   "execution_count": 10,
   "id": "fdbd3a53",
   "metadata": {},
   "outputs": [],
   "source": [
    "import pandas as pd\n",
    "import math\n",
    "\n",
    "df = pd.read_csv('mamiferos.csv')"
   ]
  },
  {
   "cell_type": "code",
   "execution_count": 33,
   "id": "7ca3c8ac",
   "metadata": {},
   "outputs": [],
   "source": [
    "def calcular_entropia(feature):\n",
    "    entropia_total = 0\n",
    "    valores = df[feature].unique()\n",
    "    total_dataframe = len(df)  \n",
    "    for valor in valores:\n",
    "        proporciones = df[df[feature] == valor][\"mamifero\"].value_counts(normalize=True)\n",
    "        entropia_valor = sum([-p * math.log2(p) for p in proporciones])\n",
    "        total_valor = len(df[df[feature] == valor])\n",
    "        prob = total_valor / total_dataframe\n",
    "        entropia_total += entropia_valor * prob\n",
    "        \n",
    "        #print(\"\\n\",feature,\"[\",valor,\"]\", \"=\", total_valor, \"/\", total_dataframe,\"\\nproporciones \", proporciones)\n",
    "        \n",
    "    return entropia_total\n"
   ]
  },
  {
   "cell_type": "code",
   "execution_count": 34,
   "id": "c92de922",
   "metadata": {},
   "outputs": [],
   "source": [
    "mejor_feature = None\n",
    "mejor_entropia = float('inf')\n",
    "entropias = {}\n",
    "\n",
    "for columna in df.columns[1:-1]:  # Excluimos la primera (animal) y la última (mamifero)\n",
    "    actual_entropia = calcular_entropia(columna)\n",
    "    entropias[columna] = actual_entropia\n",
    "    if actual_entropia < mejor_entropia:\n",
    "        mejor_entropia = actual_entropia\n",
    "        mejor_feature = columna"
   ]
  },
  {
   "cell_type": "code",
   "execution_count": 35,
   "id": "2ec8a250",
   "metadata": {},
   "outputs": [
    {
     "name": "stdout",
     "output_type": "stream",
     "text": [
      "La entropia para cada feature:\n",
      "vuela: 0.9792504246104775\n",
      "ponehuevos: 0.46358749969093305\n",
      "nada: 0.9792504246104775\n",
      "\n",
      "El mejor atributo de split es ponehuevos con una entropia de 0.46358749969093305\n"
     ]
    }
   ],
   "source": [
    "print(\"La entropia para cada feature:\")\n",
    "for feature, entropia in entropias.items():\n",
    "    print(f\"{feature}: {entropia}\")\n",
    "        \n",
    "print(\"\\nEl mejor atributo de split es\", mejor_feature,\"con una entropia de\", mejor_entropia)"
   ]
  },
  {
   "cell_type": "code",
   "execution_count": 41,
   "id": "0a2b87d8",
   "metadata": {},
   "outputs": [],
   "source": [
    "def calcular_gini(feature):\n",
    "    gini_total = 0\n",
    "    valores = df[feature].unique()\n",
    "    total_dataframe = len(df)  \n",
    "    for valor in valores:\n",
    "        proporciones = df[df[feature] == valor][\"mamifero\"].value_counts(normalize=True)\n",
    "        gini = 1 - sum([p ** 2 for p in proporciones])\n",
    "        total_valor = len(df[df[feature] == valor])\n",
    "        prob = total_valor / total_dataframe\n",
    "        gini_total += gini * prob\n",
    "        \n",
    "        #print(\"\\n\",feature,\"[\",valor,\"]\", \"=\", total_valor, \"/\", total_dataframe,\"\\nproporciones \", proporciones)\n",
    "        \n",
    "    return gini_total\n"
   ]
  },
  {
   "cell_type": "code",
   "execution_count": 42,
   "id": "dbdab332",
   "metadata": {},
   "outputs": [],
   "source": [
    "mejor_feature = None\n",
    "mejor_gini = float('inf')\n",
    "ginis = {}\n",
    "\n",
    "for columna in df.columns[1:-1]:  # Excluimos la primera (animal) y la última (mamifero)\n",
    "    actual_gini = calcular_gini(columna)\n",
    "    ginis[columna] = actual_gini\n",
    "    if actual_gini < mejor_gini:\n",
    "        mejor_gini = actual_gini\n",
    "        mejor_feature = columna\n",
    "\n",
    "#ginis"
   ]
  },
  {
   "cell_type": "code",
   "execution_count": 43,
   "id": "fc9634b8",
   "metadata": {},
   "outputs": [
    {
     "name": "stdout",
     "output_type": "stream",
     "text": [
      "El indice gini para cada feature:\n",
      "vuela: 0.4857142857142857\n",
      "ponehuevos: 0.21428571428571427\n",
      "nada: 0.4857142857142857\n",
      "\n",
      "El mejor atributo de split es ponehuevos con un indice gini de 0.21428571428571427\n"
     ]
    }
   ],
   "source": [
    "print(\"El indice gini para cada feature:\")\n",
    "for feature, gini in ginis.items():\n",
    "    print(f\"{feature}: {gini}\")\n",
    "        \n",
    "print(\"\\nEl mejor atributo de split es\", mejor_feature,\"con un indice gini de\", mejor_gini)"
   ]
  },
  {
   "cell_type": "code",
   "execution_count": null,
   "id": "1f87af8f",
   "metadata": {},
   "outputs": [],
   "source": []
  }
 ],
 "metadata": {
  "kernelspec": {
   "display_name": "Python 3 (ipykernel)",
   "language": "python",
   "name": "python3"
  },
  "language_info": {
   "codemirror_mode": {
    "name": "ipython",
    "version": 3
   },
   "file_extension": ".py",
   "mimetype": "text/x-python",
   "name": "python",
   "nbconvert_exporter": "python",
   "pygments_lexer": "ipython3",
   "version": "3.11.5"
  }
 },
 "nbformat": 4,
 "nbformat_minor": 5
}
