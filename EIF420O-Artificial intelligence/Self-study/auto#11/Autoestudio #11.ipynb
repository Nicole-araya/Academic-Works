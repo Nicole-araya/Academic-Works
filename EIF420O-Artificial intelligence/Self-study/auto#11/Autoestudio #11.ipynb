{
 "cells": [
  {
   "cell_type": "code",
   "execution_count": 53,
   "id": "1ce3801f",
   "metadata": {},
   "outputs": [
    {
     "name": "stdout",
     "output_type": "stream",
     "text": [
      "                            OLS Regression Results                            \n",
      "==============================================================================\n",
      "Dep. Variable:                      y   R-squared:                       0.990\n",
      "Model:                            OLS   Adj. R-squared:                  0.980\n",
      "Method:                 Least Squares   F-statistic:                     98.93\n",
      "Date:                Sat, 06 Apr 2024   Prob (F-statistic):             0.0100\n",
      "Time:                        02:31:49   Log-Likelihood:                0.62317\n",
      "No. Observations:                   5   AIC:                             4.754\n",
      "Df Residuals:                       2   BIC:                             3.582\n",
      "Df Model:                           2                                         \n",
      "Covariance Type:            nonrobust                                         \n",
      "================================================================================\n",
      "                   coef    std err          t      P>|t|      [0.025      0.975]\n",
      "--------------------------------------------------------------------------------\n",
      "interseccion     0.4130      0.506      0.816      0.500      -1.765       2.591\n",
      "x1            -1.83e-05   2.31e-05     -0.794      0.511      -0.000    8.09e-05\n",
      "x2               0.5554      0.078      7.088      0.019       0.218       0.893\n",
      "==============================================================================\n",
      "Omnibus:                          nan   Durbin-Watson:                   3.564\n",
      "Prob(Omnibus):                    nan   Jarque-Bera (JB):                0.337\n",
      "Skew:                          -0.266   Prob(JB):                        0.845\n",
      "Kurtosis:                       1.844   Cond. No.                     6.26e+04\n",
      "==============================================================================\n",
      "\n",
      "Notes:\n",
      "[1] Standard Errors assume that the covariance matrix of the errors is correctly specified.\n",
      "[2] The condition number is large, 6.26e+04. This might indicate that there are\n",
      "strong multicollinearity or other numerical problems.\n"
     ]
    },
    {
     "name": "stderr",
     "output_type": "stream",
     "text": [
      "C:\\Anaconda3\\Lib\\site-packages\\statsmodels\\stats\\stattools.py:74: ValueWarning: omni_normtest is not valid with less than 8 observations; 5 samples were given.\n",
      "  warn(\"omni_normtest is not valid with less than 8 observations; %i \"\n"
     ]
    }
   ],
   "source": [
    "import numpy as np\n",
    "import pandas as pd\n",
    "import statsmodels.api as sm\n",
    "\n",
    "# Definir la matriz de diseño X y la variable objetivo Y\n",
    "X = np.array([\n",
    "    [1, 4, 3],\n",
    "    [4, 25, 6],\n",
    "    [7, 64, 9],\n",
    "    [10, 121, 12],\n",
    "    [13, 196, 15],\n",
    "])\n",
    "X[:, 1] = X[:, 1] ** 2  # Modificar la segunda columna de X\n",
    "\n",
    "Y = np.array([2, 4, 5, 7, 8])\n",
    "\n",
    "# Crear DataFrame con la matriz de diseño X y la variable objetivo Y\n",
    "df = pd.DataFrame(X, columns=['interseccion', 'x1', 'x2'])\n",
    "\n",
    "# Añadir una columna de unos para la intersección\n",
    "df['interseccion'] = 1\n",
    "\n",
    "# Crear el modelo de regresión lineal\n",
    "modelo = sm.OLS(Y, df)\n",
    "\n",
    "# Ajustar el modelo a los datos\n",
    "resultado = modelo.fit()\n",
    "\n",
    "# Mostrar el resumen del modelo\n",
    "print(resultado.summary())\n"
   ]
  },
  {
   "cell_type": "code",
   "execution_count": 50,
   "id": "3a295897",
   "metadata": {},
   "outputs": [
    {
     "data": {
      "text/plain": [
       "array([[ 5.61729265e-01, -3.65586211e-05, -4.01059008e-01],\n",
       "       [-3.65586211e-05,  4.66130577e-09,  2.24479163e-05],\n",
       "       [-4.01059008e-01,  2.24479163e-05,  2.94215786e-01]])"
      ]
     },
     "execution_count": 50,
     "metadata": {},
     "output_type": "execute_result"
    }
   ],
   "source": [
    "X_t = np.transpose(X)\n",
    "np.linalg.inv(np.dot(X_t, X))\n"
   ]
  },
  {
   "cell_type": "code",
   "execution_count": 51,
   "id": "60cab096",
   "metadata": {},
   "outputs": [
    {
     "data": {
      "text/plain": [
       "array([-2.06478165e-01, -1.82993542e-05,  7.61873970e-01])"
      ]
     },
     "execution_count": 51,
     "metadata": {},
     "output_type": "execute_result"
    }
   ],
   "source": [
    "np.dot(np.dot(np.linalg.inv(np.dot(X_t, X)) ,X_t), Y)"
   ]
  },
  {
   "cell_type": "code",
   "execution_count": 54,
   "id": "2a9be9f4",
   "metadata": {},
   "outputs": [
    {
     "name": "stdout",
     "output_type": "stream",
     "text": [
      "Coeficientes óptimos (w_star): [-2.06478165e-01 -1.82993542e-05  7.61873970e-01]\n",
      "MSE en el óptimo w_star: 0.04563207907495787\n"
     ]
    }
   ],
   "source": [
    "import numpy as np\n",
    "\n",
    "# Datos de entrenamiento\n",
    "X = np.array([\n",
    "    [1, 4, 3],\n",
    "    [4, 25, 6],\n",
    "    [7, 64, 9],\n",
    "    [10, 121, 12],\n",
    "    [13, 196, 15]\n",
    "])\n",
    "\n",
    "y = np.array([2, 4, 5, 7, 8])\n",
    "\n",
    "# Modificar X para evitar correlación lineal\n",
    "X[:, 1] = X[:, 1] ** 2\n",
    "\n",
    "# Calcular la matriz X^T * X\n",
    "XTX = np.dot(X.T, X)\n",
    "\n",
    "# Calcular la inversa de X^T * X\n",
    "XTX_inv = np.linalg.inv(XTX)\n",
    "\n",
    "# Calcular X^T * y\n",
    "XTy = np.dot(X.T, y)\n",
    "\n",
    "# Calcular los coeficientes óptimos usando la ecuación normal\n",
    "w_star = np.dot(XTX_inv, XTy)\n",
    "\n",
    "# Calcular las predicciones\n",
    "y_pred = np.dot(X, w_star)\n",
    "\n",
    "# Calcular el Error Cuadrático Medio (MSE)\n",
    "MSE = np.mean((y - y_pred)**2)\n",
    "\n",
    "print(\"Coeficientes óptimos (w_star):\", w_star)\n",
    "print(\"MSE en el óptimo w_star:\", MSE)\n"
   ]
  },
  {
   "cell_type": "code",
   "execution_count": null,
   "id": "5a5988ed",
   "metadata": {},
   "outputs": [],
   "source": []
  }
 ],
 "metadata": {
  "kernelspec": {
   "display_name": "Python 3 (ipykernel)",
   "language": "python",
   "name": "python3"
  },
  "language_info": {
   "codemirror_mode": {
    "name": "ipython",
    "version": 3
   },
   "file_extension": ".py",
   "mimetype": "text/x-python",
   "name": "python",
   "nbconvert_exporter": "python",
   "pygments_lexer": "ipython3",
   "version": "3.11.5"
  }
 },
 "nbformat": 4,
 "nbformat_minor": 5
}
