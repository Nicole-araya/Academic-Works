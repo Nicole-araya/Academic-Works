{
 "cells": [
  {
   "cell_type": "code",
   "execution_count": 1,
   "id": "439af5aa",
   "metadata": {},
   "outputs": [],
   "source": [
    "import numpy as np"
   ]
  },
  {
   "cell_type": "code",
   "execution_count": 3,
   "id": "cab3e1a4",
   "metadata": {},
   "outputs": [],
   "source": [
    "X = np.array([\n",
    "    [1, 4, 3],\n",
    "    [4, 25, 6],\n",
    "    [7, 64, 9],\n",
    "    [10, 121, 12],\n",
    "    [13, 196, 15]\n",
    "])\n",
    "\n",
    "y = np.array([2, 4, 5, 7, 8])"
   ]
  },
  {
   "cell_type": "code",
   "execution_count": 4,
   "id": "905edc95",
   "metadata": {},
   "outputs": [],
   "source": [
    "# Modificamos X para evitar correlación lineal\n",
    "X[:, 1] = X[:, 1] ** 2"
   ]
  },
  {
   "cell_type": "code",
   "execution_count": 11,
   "id": "cbc4809c",
   "metadata": {},
   "outputs": [],
   "source": [
    "w_star = np.linalg.inv(X.T @ X) @ X.T @ y\n",
    "\n",
    "# Calculamos las predicciones usando los pesos óptimos\n",
    "y_pred = X @ w_star\n",
    "\n",
    "# Calculamos el Mean Squared Error (MSE)\n",
    "mse = np.mean((y_pred - y) ** 2)"
   ]
  },
  {
   "cell_type": "code",
   "execution_count": 9,
   "id": "addef1ef",
   "metadata": {},
   "outputs": [
    {
     "name": "stdout",
     "output_type": "stream",
     "text": [
      "Optimal w_star for lr such that y_hat - w_star , x\n",
      "y_hat = 0.8594*x_1 + -0.0000*x_2 + 69.4375*x_3\n",
      "\n",
      "MSE on optimal w_star: 6463.486085488781\n",
      "\n",
      "X_1 = [ 1.  1. 16.  3.]. Prediction y1_hat for X_1: 73.67158. True Value = 2\n",
      "\n",
      "X_2 = [  1.   4. 625.   6.]. Prediction y2_hat for X_2: 79.61356. True Value = 4\n",
      "\n",
      "X_3 = [1.000e+00 7.000e+00 4.096e+03 9.000e+00]. Prediction y3_hat for X_3: 85.50317. True Value = 5\n",
      "\n",
      "X_4 = [1.0000e+00 1.0000e+01 1.4641e+04 1.2000e+01]. Prediction y4_hat for X_4: 91.26333. True Value = 7\n",
      "\n",
      "X_5 = [1.0000e+00 1.3000e+01 3.8416e+04 1.5000e+01]. Prediction y5_hat for X_5: 96.78139. True Value = 8\n"
     ]
    }
   ],
   "source": [
    "print(\"Optimal w_star for lr such that y_hat - w_star , x\")\n",
    "print(\"y_hat = {:.4f}*x_1 + {:.4f}*x_2 + {:.4f}*x_3\".format(w_star[1], w_star[2], w_star[0]))\n",
    "print(\"\\nMSE on optimal w_star:\", mse)\n",
    "\n",
    "# Comprobación de las predicciones para cada muestra\n",
    "for i, x_sample in enumerate(X):\n",
    "    y_hat = np.dot(w_star, x_sample)\n",
    "    print(\"\\nX_{} = {}. Prediction y{}_hat for X_{}: {:.5f}. True Value = {}\".format(i+1, x_sample, i+1, i+1, y_hat, y[i]))"
   ]
  }
 ],
 "metadata": {
  "kernelspec": {
   "display_name": "Python 3 (ipykernel)",
   "language": "python",
   "name": "python3"
  },
  "language_info": {
   "codemirror_mode": {
    "name": "ipython",
    "version": 3
   },
   "file_extension": ".py",
   "mimetype": "text/x-python",
   "name": "python",
   "nbconvert_exporter": "python",
   "pygments_lexer": "ipython3",
   "version": "3.11.5"
  }
 },
 "nbformat": 4,
 "nbformat_minor": 5
}
