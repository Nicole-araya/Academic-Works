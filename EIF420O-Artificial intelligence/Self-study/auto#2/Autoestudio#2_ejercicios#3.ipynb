{
 "cells": [
  {
   "cell_type": "code",
   "execution_count": null,
   "id": "8734329f",
   "metadata": {},
   "outputs": [],
   "source": [
    "# import sympy as sp\n",
    "\n",
    "# Definir la variable simbólica\n",
    "x = sp.Symbol('x')\n",
    "\n",
    "# Definir la función\n",
    "f = (2/3) * x**3 - (7/4) * x**2 + (3/2) * x + 1\n",
    "\n",
    "# Calcular la primera derivada\n",
    "f_prime = sp.diff(f, x)\n",
    "\n",
    "# Encontrar los puntos críticos (donde la primera derivada es cero)\n",
    "critical_points = sp.solve(f_prime, x)\n",
    "\n",
    "# Calcular la segunda derivada\n",
    "f_double_prime = sp.diff(f_prime, x)\n",
    "\n",
    "# Mostrar los puntos críticos\n",
    "print(\"Puntos críticos:\", critical_points)\n",
    "\n",
    "# Evaluar la segunda derivada en los puntos críticos\n",
    "for point in critical_points:\n",
    "    second_derivative_value = f_double_prime.subs(x, point)\n",
    "    if second_derivative_value > 0:\n",
    "        print(\"El punto\", point, \"es un mínimo.\")\n",
    "    elif second_derivative_value < 0:\n",
    "        print(\"El punto\", point, \"es un máximo.\")\n",
    "    else:\n",
    "        print(\"No se puede determinar si el punto\", point, \"es un máximo o un mínimo.\")\n",
    "        "
   ]
  },
  {
   "cell_type": "code",
   "execution_count": null,
   "id": "834ce5cf",
   "metadata": {},
   "outputs": [],
   "source": []
  }
 ],
 "metadata": {
  "kernelspec": {
   "display_name": "Python 3 (ipykernel)",
   "language": "python",
   "name": "python3"
  },
  "language_info": {
   "codemirror_mode": {
    "name": "ipython",
    "version": 3
   },
   "file_extension": ".py",
   "mimetype": "text/x-python",
   "name": "python",
   "nbconvert_exporter": "python",
   "pygments_lexer": "ipython3",
   "version": "3.11.5"
  }
 },
 "nbformat": 4,
 "nbformat_minor": 5
}
